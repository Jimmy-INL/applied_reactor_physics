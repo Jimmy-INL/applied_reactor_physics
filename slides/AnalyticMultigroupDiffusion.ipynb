{
 "cells": [
  {
   "cell_type": "markdown",
   "metadata": {},
   "source": [
    "# ARP Lecture 12\n",
    "\n",
    "**Semi-Analytic Solution of the Multigroup Diffusion Equation in a Slab**\n",
    "\n",
    "Going off syllabus here because you need it!"
   ]
  },
  {
   "cell_type": "markdown",
   "metadata": {},
   "source": [
    "## The Multigroup Equations in 1-D\n",
    "\n",
    "$$\n",
    "  \\frac{d}{dx} D_g(x) \\frac{d\\phi_g}{dx} + \\Sigma_{t,g}(x) \\phi_g(x) \n",
    "    = \\sum^G_{g=1} \\Sigma_{s,g\\gets g'} \\phi_{g'}(x) + \\frac{\\chi_g}{k} \\sum^G_{g=1} \\nu\\Sigma_{f, g'}\\phi_{g'}(x) \\, , \\qquad g = 1, 2, \\ldots, G \\, .\n",
    "$$\n",
    "\n",
    "Boundary conditions at $x_L$ usually\n",
    "\n",
    "$$\n",
    "  \\overbrace{\\phi_g(x_L) = 0}^{\\text{zero flux }\\approx \\text{ vacuum}} \\quad \\text{or} \\quad \\overbrace{\\frac{d\\phi_g}{dx} \\Bigg |_{x=x_L} = 0}^{\\text{reflective}} \\quad \\text{or} \\quad \\overbrace{\\frac{\\phi_g(x_L)}{4} - \\frac{D_g}{2}\\frac{d\\phi_g}{dx} \\Bigg |_{x=x_L} = 0}^{\\text{zero incident current }=\\text{ vacuum}} \\, .\n",
    "$$\n",
    "\n",
    "Similar conditions for $x_R$."
   ]
  },
  {
   "cell_type": "markdown",
   "metadata": {},
   "source": [
    "## Problem of Interest\n",
    "\n",
    "We'll consider multi-region problems in which data is piece-wise constant, e.g.,\n",
    "\n",
    "```\n",
    "           |          |          |          |\n",
    "boundary L | region 1 | region 2 | region 3 | boundary R\n",
    "           |          |          |          |\n",
    "          x_0        x_1        x_2        x_3\n",
    "``` "
   ]
  },
  {
   "cell_type": "markdown",
   "metadata": {},
   "source": [
    "## One Group\n",
    "\n",
    "You know how to solve the one group problem: define \n",
    "\n",
    "$$\n",
    "  \\phi_i(x) = A_i \\cos(\\sqrt{\\lambda_i} x) + B_i \\sin(\\sqrt{\\lambda_i} x)\n",
    "$$ \n",
    "\n",
    "where \n",
    "\n",
    "$$\n",
    "  \\lambda_i \\equiv \\frac{\\frac{\\nu\\Sigma_f}{k} - \\Sigma_a}{D} (= B_i^2 \\, \\text{the material buckling}) \\, ,\n",
    "$$\n",
    "\n",
    "for $x \\in [x_i, x_{i+1}]$. If $\\lambda_i$ is *negative*, use $\\cosh(\\sqrt{-\\lambda_i})$ and $\\sinh(\\sqrt{-\\lambda_i})$ instead.  Finally, apply boundary/continuity conditions. "
   ]
  },
  {
   "cell_type": "markdown",
   "metadata": {},
   "source": [
    "## Example 1: Two-Region Reactor\n",
    "\n",
    "Let $D = 0.4$, $\\Sigma_a = 0.5$ and $\\nu\\Sigma_f = 0.65$ in Region 1, and $D=0.4$, $\\Sigma_a = 0.4$, and $\\nu\\Sigma_f = 0.0$ in Region 2.  Both regions are 10 cm.  Find $k_{eff}$."
   ]
  },
  {
   "cell_type": "markdown",
   "metadata": {},
   "source": [
    "## Solve Iteratively by Coupled (Partial) Currents\n",
    "\n",
    "Remember continuity of $\\phi(x)$ and $J(x) = -D \\nabla \\phi(x)$.\n",
    "\n",
    "*True of false*: same two conditions when  $J_{left}(x)$ and $J_{right}(x)$ are continuous."
   ]
  },
  {
   "cell_type": "markdown",
   "metadata": {},
   "source": [
    "## To Two Groups and Beyond\n",
    "\n",
    "...on the board!"
   ]
  },
  {
   "cell_type": "code",
   "execution_count": null,
   "metadata": {
    "collapsed": true
   },
   "outputs": [],
   "source": []
  }
 ],
 "metadata": {
  "kernelspec": {
   "display_name": "Python 3",
   "language": "python",
   "name": "python3"
  },
  "language_info": {
   "codemirror_mode": {
    "name": "ipython",
    "version": 3
   },
   "file_extension": ".py",
   "mimetype": "text/x-python",
   "name": "python",
   "nbconvert_exporter": "python",
   "pygments_lexer": "ipython3",
   "version": "3.6.3"
  }
 },
 "nbformat": 4,
 "nbformat_minor": 2
}
