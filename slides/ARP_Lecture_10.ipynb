{
 "cells": [
  {
   "cell_type": "markdown",
   "metadata": {
    "slideshow": {
     "slide_type": "slide"
    }
   },
   "source": [
    "# ARP Lecture 10\n",
    "\n",
    "**The Linear (and Nonlinear) Reactivity Model**"
   ]
  },
  {
   "cell_type": "markdown",
   "metadata": {
    "slideshow": {
     "slide_type": "slide"
    }
   },
   "source": [
    "## Linear Reactivity Model\n",
    "\n",
    "**Assumption 1**: a core is composed of $N \\ge 1$ batches of identical fuel assemblies.  \n",
    "\n",
    "\n",
    "**Assumption 2**: reactivity of the fuel varies linearly with burnup, i.e.,\n",
    "\n",
    "$$\n",
    " \\rho(B) = \\rho_0 - AB \\, ,\n",
    "$$\n",
    "\n",
    "where $\\rho$ is reactivity, $B$ is burnup (GWd/MTU), and $\\rho_0$ and $A$ are constants. Reactivity can also be defined as \n",
    "\n",
    "$$\n",
    " \\rho = \\frac{k-1}{k} \\, ,\n",
    "$$\n",
    "\n",
    "where $k$ is the multiplication factor."
   ]
  },
  {
   "cell_type": "markdown",
   "metadata": {
    "slideshow": {
     "slide_type": "subslide"
    }
   },
   "source": [
    "<img src=\"pwr.png\" alt=\"PWR Assembly\" style=\"width: 200px;\"/>"
   ]
  },
  {
   "cell_type": "code",
   "execution_count": 8,
   "metadata": {
    "slideshow": {
     "slide_type": "subslide"
    }
   },
   "outputs": [
    {
     "data": {
      "image/png": "[encoded data removed]",
      "text/plain": [
       "<matplotlib.figure.Figure at 0x7efc3dbf82e8>"
      ]
     },
     "metadata": {},
     "output_type": "display_data"
    },
    {
     "data": {
      "image/png": "[encoded data removed]",
      "text/plain": [
       "<matplotlib.figure.Figure at 0x7efc3da30dd8>"
      ]
     },
     "metadata": {},
     "output_type": "display_data"
    }
   ],
   "source": [
    "import numpy as np\n",
    "import matplotlib.pyplot as plt\n",
    "with open('pwr.log', 'r') as f:\n",
    "    lines = f.readlines()\n",
    "B, k = [], []\n",
    "for i in range(41, 83):\n",
    "    B.append(float(lines[i][40:].split()[0]))\n",
    "    k.append(float(lines[i][40:].split()[1]))\n",
    "B = np.array(B)\n",
    "k = np.array(k)\n",
    "plt.figure(1)\n",
    "plt.plot(B, k, 'k-')\n",
    "plt.xlabel('B (MWd/kg)')\n",
    "plt.ylabel(r'$k_{\\infty}$')\n",
    "plt.grid(True)\n",
    "plt.figure(2)\n",
    "plt.plot(B, (k-1)/k, 'r')\n",
    "plt.xlabel('B (MWd/kg)')\n",
    "plt.ylabel(r'$\\rho_{\\infty}$')\n",
    "plt.grid(True)\n",
    "plt.show()"
   ]
  },
  {
   "cell_type": "markdown",
   "metadata": {
    "slideshow": {
     "slide_type": "subslide"
    }
   },
   "source": [
    "## Averaging Over the Core\n",
    "\n",
    "Simplest $N$-batch model:\n",
    "\n",
    "$$\n",
    " \\bar{\\rho} = \\frac{1}{N} \\sum^N_{i=1} \\rho_i \\, .\n",
    "$$\n",
    "\n",
    "Here, $\\rho_i$ is the reactivity of the $i$th batch.  Usually, the \n",
    "infinite multiplication factor $k_{\\infty}$ is used, so $\\rho_i$ represents the reactivity of an infinite \n",
    "reactor composed of the $i$th-batch fuel."
   ]
  },
  {
   "cell_type": "markdown",
   "metadata": {
    "slideshow": {
     "slide_type": "subslide"
    }
   },
   "source": [
    "To include losses  due to leakage, the core reactivity can be redefined as \n",
    "\n",
    "$$\n",
    "\\bar{\\rho} = \\frac{1}{N} \\sum^N_{i=1} \\rho_i  - \\rho_L \\, ,\n",
    "$$\n",
    "\n",
    "where $\\rho_L$ is the reactivity penalty due to leakage and is typically close to 4\\%."
   ]
  },
  {
   "cell_type": "markdown",
   "metadata": {
    "slideshow": {
     "slide_type": "slide"
    }
   },
   "source": [
    "## Estimating Cycle Lengths for $N$-Batch Cores\n",
    "\n",
    "Consider an $N$-batch core at the end of cycle (EOC).  The EOC reactivity of each batch is\n",
    "\n",
    "$$\n",
    " \\begin{split}\n",
    "  \\rho_1 &= \\rho_0 -  AB_c \\\\\n",
    "  \\rho_2 &= \\rho_0 - 2AB_c \\\\\n",
    "         & \\vdots \\\\\n",
    "  \\rho_N &= \\rho_0 - NAB_c \\, ,\n",
    " \\end{split}\n",
    "$$\n",
    "\n",
    "where $B_c$ is the **cycle length**, i.e., the (average) burnup each batch accumulates between fuel reloads.  The **discharge burnup** is $B_d = N B_c$.\n"
   ]
  },
  {
   "cell_type": "markdown",
   "metadata": {
    "slideshow": {
     "slide_type": "subslide"
    }
   },
   "source": [
    "\n",
    "**Exercises**: Let $B_s = \\rho_0/A$ be the one-batch cycle length.  \n",
    " - How does $B_c$ for $N$ batches compare to $B_s$?\n",
    " - What is the *discharge* burnup $B_d$ for the $N$-batch case?  Remember, a batch of fuel in an $N$-batch scheme is in the core for $N$ cycles.\n",
    " - Estimate $\\rho_0$ and $A$ from the previous slide.  What's $B_c$ and $B_d$?\n",
    " - What is $B_d/B_s$ in the limit $N \\to \\infty$?"
   ]
  },
  {
   "cell_type": "markdown",
   "metadata": {
    "slideshow": {
     "slide_type": "slide"
    }
   },
   "source": [
    "## Nonlinear Reactivity Model\n",
    "\n",
    "More general $N$-batch, NRM: \n",
    "\n",
    "$$\n",
    "  \\frac{1}{N} \\sum_{i=1}^N \\rho(iB_c) = \\rho_L \\, ,\n",
    "$$\n",
    "\n",
    "where leakage is included explicitly.  Once $B_c$ is determined, batch-average properties can be evaluated for any burnup $B \\in [0, B_c]$.  \n",
    "\n",
    "Adding to the complication, $\\rho$ depends on more than just $B$: it depends also on $T_F$, $T_C$, $C_B$, cladding, etc.  Moreover, both LRM and the NRM equation above assume *equal batch powers*.  **Realistic or no?**"
   ]
  },
  {
   "cell_type": "markdown",
   "metadata": {
    "slideshow": {
     "slide_type": "subslide"
    }
   },
   "source": [
    "### Unequal Power Sharing\n",
    "\n",
    "Let $\\rho_i = \\frac{F_i - A_i}{F_i}$, where $F_i$ and $A_i$ are fission/absorption rates in region $i$.\n",
    "\n",
    "Core reactivity then \n",
    "\n",
    "$$\n",
    " \\rho = \\frac{ \\sum^N_{i=1} (F_i-A_i) }{ \\sum^N_{i=1} F_i} = \n",
    "    \\frac{ \\sum^N_{i=1} F_i \\rho_i  }{ \\sum^N_{i=1} F_i} \\approx \\frac{ \\sum^N_{i=1} q_i \\rho_i  }{ \\sum^N_{i=1} q_i} \n",
    "   = \\frac{ \\sum^N_{i=1} q_i \\rho_i  }{ Q}\n",
    "$$\n",
    "\n",
    "where $q_i$ is $i$th batch power and $Q$ is total power.  Finally, let $f_i = q_i/Q$ and $\\sum^N_i f_i = 1$ so that\n",
    "\n",
    "$$\n",
    "  \\rho = \\sum^N_{i=1} f_i \\rho_i \\, .\n",
    "$$"
   ]
  },
  {
   "cell_type": "code",
   "execution_count": null,
   "metadata": {
    "collapsed": true
   },
   "outputs": [],
   "source": []
  }
 ],
 "metadata": {
  "celltoolbar": "Slideshow",
  "kernelspec": {
   "display_name": "Python 3",
   "language": "python",
   "name": "python3"
  },
  "language_info": {
   "codemirror_mode": {
    "name": "ipython",
    "version": 3
   },
   "file_extension": ".py",
   "mimetype": "text/x-python",
   "name": "python",
   "nbconvert_exporter": "python",
   "pygments_lexer": "ipython3",
   "version": "3.6.3"
  },
  "livereveal": {
   "scroll": true
  }
 },
 "nbformat": 4,
 "nbformat_minor": 2
}
