{
 "cells": [
  {
   "cell_type": "markdown",
   "metadata": {},
   "source": [
    "# ARP Lecture 9\n",
    "\n",
    "**Branch Cases in CASMO-4**"
   ]
  },
  {
   "cell_type": "markdown",
   "metadata": {
    "slideshow": {
     "slide_type": "subslide"
    }
   },
   "source": [
    "## Reading\n",
    "\n",
    "- CASMO-4 Manual\n",
    "- Papers to be uploaded on optimization"
   ]
  },
  {
   "cell_type": "markdown",
   "metadata": {
    "slideshow": {
     "slide_type": "slide"
    }
   },
   "source": [
    "## From Last Time"
   ]
  },
  {
   "cell_type": "code",
   "execution_count": 1,
   "metadata": {
    "slideshow": {
     "slide_type": "fragment"
    }
   },
   "outputs": [
    {
     "name": "stdout",
     "output_type": "stream",
     "text": [
      "TTL * 17 x 17\n",
      "PSC 1\n",
      "DBL\n",
      "* CONDITIONS\n",
      "PDE 104.5 'KWL'                               * specific power of pin\n",
      "PRE 155                                       * pressure (bar)\n",
      "TMO=565                                       * mod temp K\n",
      "TCO=580                                       * cool temp K\n",
      "TFU=900                                       * fuel temp K\n",
      "BOR=900                                       * boron (ppm)\n",
      "* GEOMETRY\n",
      "PWR 17 1.26 21.5                              * 17x17, 1.26cm pitch, 21.5cm a. pitch\n",
      "FUE 1, 10.34/4.0                              * UO2 at 4%\n",
      "PIN 1 0.4096 0.4180 0.4750 /'1' 'AIR', 'CAN'  * fuel/air/clad\n",
      "* LATTICE\n",
      "LPI                                           * 1/8th symmetry\n",
      "1\n",
      "1 1\n",
      "1 1 1\n",
      "1 1 1 1\n",
      "1 1 1 1 1\n",
      "1 1 1 1 1 1\n",
      "1 1 1 1 1 1 1\n",
      "1 1 1 1 1 1 1 1\n",
      "1 1 1 1 1 1 1 1 1\n",
      "* \n",
      "* DEP -80                                         * deplete to 80 MWd/kg, auto step size\n",
      "STA\n",
      "\n",
      "\n",
      "\n"
     ]
    }
   ],
   "source": [
    "print(open('pwr.inp', 'r').read())"
   ]
  },
  {
   "cell_type": "markdown",
   "metadata": {
    "slideshow": {
     "slide_type": "slide"
    }
   },
   "source": [
    "## Adding History Effects\n",
    "\n",
    "Sometimes (always) reactor fuel is subjected to varying conditions.  These conditions can be instantaneous in nature or long term.  The conditions of interest in CASMO-4 are:\n",
    " - BOR boron concentration\n",
    " - CLD cold, isothermal temp\n",
    " - PDE power density\n",
    " - PRE reactor pressure\n",
    " - TCO coolant temperature\n",
    " - TFU fuel temperature\n",
    " - TMO moderator temperature\n",
    " - VOI void in coolant"
   ]
  },
  {
   "cell_type": "markdown",
   "metadata": {},
   "source": [
    "## Examples\n",
    "\n",
    "Consider how to answer these questions:\n",
    " 1. What is $k_{\\infty}$ for the PWR assembly at `TFU=900` at 30 GWd/MTU if it is burned\n",
    "   at 900 K? (Nominal conditions)\n",
    " 2. What is $k_{\\infty}$ for the PWR assembly at `TFU=1000` at 30 GWd/MTU if it is burned\n",
    "   at 1000 K for the first 15 GWd/MTU? (Historical impact of high-temperature depletion.)\n",
    " 3. What is $k_{\\infty}$ for the PWR assembly at `TFU=1000` at 30 GWd/MTU if it is burned\n",
    "   at 900 K for the first 30 GWd/MTU? (Instantaneous impact of temperature increase)\n",
    " 4. What is $k_{\\infty}$ for the PWR assembly at `TFU=900` and *zero xenon* at 30 GWd/MTU if it is burned\n",
    "   at 900 K for the first 30 GWd/MTU? (Instantaneous impact of xenon removal, i.e., the xenon reactivity worth)\n",
    "  "
   ]
  },
  {
   "cell_type": "markdown",
   "metadata": {},
   "source": [
    "Modify `pwr.inp` with the following:\n",
    "\n",
    "```\n",
    "* base depletion at nominal conditions (Q1)\n",
    "DEP -60\n",
    "STA\n",
    "* branches (instaneous change) from base depletion (Q3 and Q4)\n",
    "COE ,, 0 15 30 45 60\n",
    "TFU = 1000\n",
    "CNU 'FUE' 54135=0.0 \n",
    "* end of the model input\n",
    "END\n",
    "```\n",
    "\n"
   ]
  },
  {
   "cell_type": "code",
   "execution_count": null,
   "metadata": {
    "collapsed": true
   },
   "outputs": [],
   "source": []
  }
 ],
 "metadata": {
  "celltoolbar": "Slideshow",
  "kernelspec": {
   "display_name": "Python 3",
   "language": "python",
   "name": "python3"
  },
  "language_info": {
   "codemirror_mode": {
    "name": "ipython",
    "version": 3
   },
   "file_extension": ".py",
   "mimetype": "text/x-python",
   "name": "python",
   "nbconvert_exporter": "python",
   "pygments_lexer": "ipython3",
   "version": "3.6.3"
  },
  "livereveal": {
   "scroll": true
  }
 },
 "nbformat": 4,
 "nbformat_minor": 2
}
