{
 "cells": [
  {
   "cell_type": "markdown",
   "metadata": {},
   "source": [
    "# ARP Lecture 11\n",
    "\n",
    "**Elements of Homogenization and Nodal Diffusion Methods**"
   ]
  },
  {
   "cell_type": "markdown",
   "metadata": {},
   "source": [
    "## Reading\n",
    "\n",
    "- Kord Smith paper on homogenization\n",
    "- Gupta paper on classical nodal methods\n",
    "- Lawrence paper on modern nodal methods"
   ]
  },
  {
   "cell_type": "markdown",
   "metadata": {
    "slideshow": {
     "slide_type": "subslide"
    }
   },
   "source": [
    "## Homogenization\n",
    "\n",
    "Recall, we go from *fine-mesh, angle-dependent, many-group transport in pins and assemblies* to *coarse-mesh, angle-independent, few-group diffusion in full cores*. How?\n",
    "\n",
    "$$\n",
    "   \\Sigma_{t, I, G} = \n",
    "    \\frac{\\sum_{i\\in I} \\sum_{g \\in G} \\int_{4\\pi} \\psi_{i, g}(\\Omega) d\\Omega \\Sigma_{t, i, g} V_i}\n",
    "         {\\sum_{i\\in I} \\sum_{g \\in G} \\int_{4\\pi} \\psi_{i, g}(\\Omega) d\\Omega V_i}  \\, .\n",
    "$$\n",
    "\n",
    "More complicated for scattering, but basic idea applies.  What about the diffusion coefficient?"
   ]
  },
  {
   "cell_type": "markdown",
   "metadata": {
    "slideshow": {
     "slide_type": "subslide"
    }
   },
   "source": [
    "Homogenization aims to preserve reaction rates.  The \"reaction rate\" associated with $D$ is the \"flow\" from a boundary.  Hence, define\n",
    "\n",
    "$$\n",
    "  D_{G, i} = \\frac{-\\sum_{g\\in G}\\int_{S_i} \\mathbf{J}_g(\\mathbf{r})\\cdot d\\mathbf{S}}\n",
    "                  {\\int_{S_i} \\nabla \\phi_G(\\mathbf{r})\\cdot d\\mathbf{S}}\n",
    "$$\n",
    "\n",
    "but often, the flux-weighted approximation is used:\n",
    "\n",
    "$$\n",
    "D_{i, G}  = \n",
    "    \\frac{\\sum_{i\\in I} \\sum_{g \\in G}\\phi_{i, g} D_{i, g} V_i}\n",
    "         {\\sum_{i\\in I} \\sum_{g \\in G} \\phi_{i, g} V_i}  \\, .\n",
    "$$"
   ]
  },
  {
   "cell_type": "markdown",
   "metadata": {
    "slideshow": {
     "slide_type": "subslide"
    }
   },
   "source": [
    "Quantities used in homogenization come from *assembly-level* transport calculations: fluxes are approximate because boundary conditions are approximate.  The resulting *assembly-homogenized cross sections* (or ADX's) preserve reaction rates of the infinite lattice---but how well do they preserve real reaction rates?"
   ]
  },
  {
   "cell_type": "markdown",
   "metadata": {
    "slideshow": {
     "slide_type": "subslide"
    }
   },
   "source": [
    "## In-Class Problem\n",
    "\n",
    "Consider the following three-assembly problem (from Smith):\n",
    "\n",
    "```\n",
    "        |         |           |         |\n",
    "reflect |    A    |  A  |  B  |    B    | reflect\n",
    "        |         |           |         |\n",
    "             1          2          3\n",
    "```\n",
    "\n",
    "Material properties:\n",
    "\n",
    "\n",
    "| Material  | $g$  | $D_g$  |  $\\Sigma_{ag}$ | $\\nu\\Sigma_{fg}$  | $\\Sigma_{sg\\to g'}$  |\n",
    "|---|---|---|---|---|---|\n",
    "| A  | 1  | 1.320  | 0.009  | 0.006  | 0.017  |\n",
    "|    | 2  | 0.383  | 0.080  | 0.104  | 0.000  |\n",
    "| B  | 1  | 1.320  | 0.009  | 0.006  | 0.017  |\n",
    "|    | 2  | 0.383  | 0.090  | 0.104  | 0.000  |\n",
    "\n",
    "Assume $\\chi_1 = 1$ and $\\chi_2 = 0$.\n",
    "\n",
    "**Goals**:\n",
    " - Solve this problem *semi-analytically*: three assemblies, but four unique, homogeneous regions, two groups.  That's 8 undetermined coefficients (but is it really?)\n",
    " - If that fails, solve this *numerically* using finite differences with very fine mesh\n",
    " - Homogenize using the definitions for $\\Sigma$ and $D$ above in space only, i.e., keep it a two-group problem.\n",
    " - Solve the homogenized problem in exactly the same way and compare the solutions.\n",
    " - Use the original \"reference\" solution to compute discontinuity factors a la GET"
   ]
  }
 ],
 "metadata": {
  "celltoolbar": "Slideshow",
  "kernelspec": {
   "display_name": "Python 3",
   "language": "python",
   "name": "python3"
  },
  "language_info": {
   "codemirror_mode": {
    "name": "ipython",
    "version": 3
   },
   "file_extension": ".py",
   "mimetype": "text/x-python",
   "name": "python",
   "nbconvert_exporter": "python",
   "pygments_lexer": "ipython3",
   "version": "3.6.3"
  },
  "livereveal": {
   "scroll": true
  }
 },
 "nbformat": 4,
 "nbformat_minor": 2
}
