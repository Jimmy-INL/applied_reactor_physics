{
 "cells": [
  {
   "cell_type": "markdown",
   "metadata": {
    "collapsed": true,
    "slideshow": {
     "slide_type": "slide"
    }
   },
   "source": [
    "# ARP Lecture 5\n",
    "\n",
    "**Introduction to CASMO-4**"
   ]
  },
  {
   "cell_type": "markdown",
   "metadata": {
    "slideshow": {
     "slide_type": "subslide"
    }
   },
   "source": [
    "### Readings:\n",
    " - CASMO-4 Manual\n",
    " - Knott and Yamamoto, Section 1 (broad overview of lattice physics, with some emphasis on CASMO-4 methods)\n",
    " - K&Y, Section 2 (review of what we've done!)\n",
    " - Reuss Ch. 10 (multigroup theory)\n",
    " - Reuss Ch. 14 (as a reference on neutron transport)"
   ]
  },
  {
   "cell_type": "markdown",
   "metadata": {
    "slideshow": {
     "slide_type": "subslide"
    }
   },
   "source": [
    "## CASMO-4 \n",
    "\n",
    "The basic sequence is:\n",
    "\n",
    " 1. **Resonance Calculation via Equivalence Theory**\n",
    " 2. **Macroscopic Cross-Section Generation**\n",
    " 3. Single-Pin, Fine-Group Calculation (for $\\phi_g(\\mathbf{r})$)\n",
    " 4. Pin-Cell Homogenization (Spatial/Energy Average)\n",
    " 5. *Whole-Assembly, Intermediate-Group Calculation*\n",
    " 6. *Correct Pin-wise Spectra and Collapse to Few-Group Data (8)*\n",
    " 7. Whole-Assembly, Hetergeneous Neutron Transport (MOC)\n",
    " 8. Collapse to two-group, assembly-averaged Data\n",
    " \n",
    "We have already looked at the inputs to parts 1 and 2 via NJOY, etc."
   ]
  },
  {
   "cell_type": "markdown",
   "metadata": {
    "slideshow": {
     "slide_type": "subslide"
    }
   },
   "source": [
    "## A First Input\n",
    "\n",
    "```\n",
    "TTL *Pin cell example\n",
    "TFU=293 TMO=293 BOR=550   *Statepoint parameters\n",
    "FUE 1 10.1/3.2            *Fuel density/enrichment\n",
    "PIC .49 .55 .81           *Pin cell radii\n",
    "PDE 30\n",
    "DEP -40\n",
    "STA                       *Start execution\n",
    "END                       *End of input\n",
    "```"
   ]
  },
  {
   "cell_type": "markdown",
   "metadata": {},
   "source": [
    "### Executing the Input\n",
    "\n",
    "Easy!  \n",
    "\n",
    "```\n",
    "homersimpson@eigendoit:~/springfield$ casmo4 pin.inp\n",
    "```\n",
    "\n",
    "You will see some output on the screen, and three files should be produced:\n",
    " - pin.log\n",
    " - pin.out\n",
    " - pin.cax\n",
    " \n",
    "The file `pin.log` contains the output you saw when running the input.  The file `pin.out` has much more detailed information.  The file `pin.cax` is a binary file used for downstream analysis; ignore it."
   ]
  },
  {
   "cell_type": "markdown",
   "metadata": {},
   "source": [
    "## The First Output\n",
    "\n",
    "The log file provides information about the executable and data used, among other things.  After approximately 30 lines, note the line\n",
    "\n",
    "```\n",
    "   ** C A S M O - 4E SUMMARY **\n",
    "```\n",
    "\n",
    "following which is provided a table similar to\n",
    "\n",
    "```\n",
    "  Pin cell example\n",
    "   HVOI=  0.0 HTFU=  293.0 HTMO=  293.0 HTCO=  293.0 HBOR=  550.0\n",
    "   NO VOID    TFU    TMO    TCO    BOR ROD   BURNUP   K-INF   K-INF     M2     PIN   U-235 FISS PU  TOT PU\n",
    "                                             MWD/KG             TWO-GROUP     PEAK    WT %    WT %    WT %\n",
    "    1  0.0  293.0  293.0  293.0  550.0        0.000 1.30605 1.30399  41.07   1.000   3.200   0.000   0.000  \n",
    "    2                                         0.100 1.26418 1.26274  40.72   1.000   3.188   0.002   0.002  \n",
    "    3                                         0.500 1.25449 1.25317  40.64   1.000   3.141   0.020   0.020  \n",
    "    4                                         1.000 1.24831 1.24706  40.59   1.000   3.083   0.044   0.045  \n",
    "    5                                         2.000 1.23809 1.23695  40.51   1.000   2.971   0.089   0.092  \n",
    "```\n",
    "\n",
    "This summary table is a very useful resource for quickly finding the $k$ eigenvalue and bulk composition of the reactor unit cell."
   ]
  },
  {
   "cell_type": "markdown",
   "metadata": {
    "collapsed": true,
    "slideshow": {
     "slide_type": "subslide"
    }
   },
   "source": [
    "### What are those columns?\n",
    "\n",
    "The table is divided into the following columns, where\n",
    "  - NO is the depletion step.\n",
    "  - VOID is the void fraction (and is applicable primarily to boiling water reactors).\n",
    "  - TFU is the fuel temperature (K).\n",
    "  - TMO is the moderator temperature (K).\n",
    "  - TCO is the coolant temperature (K).  Note, TCO and TMO may differ if light water is not the coolant.\n",
    "  - BOR is the boron concentration in the coolant (ppm).\n",
    "  - ROD indicates the presence (or not) of a removable control rod\n",
    "  - BURNUP is the amount of energy produced per initial mass of heavy metal (MWD/KG)\n",
    "  - K-INF is $k_{\\infty}$ (both from direct solution of the neutron transport equation and from a two-group approximation)\n",
    "  - M2 is $M^2$ (the migration area)\n",
    "  - PIN PEAK is the peak pin power (useful only for assemblies with multiple pins).\n",
    "  - U-235 WT % is the percentage of the fuel mass that is ${}^{235}$U\n",
    "  - FISS PU WT % is the percentage of the fuel mass that is ${}^{239}$Pu and ${}^{241}$Pu.\n",
    "  - TOT PU WT % is the percentage of the fuel mass that is any Pu isotope.\n",
    "  \n",
    "The values HVOI, HTFU, HTMO, HTCO, and HBOR are *historical* values.  We'll discuss the meaning of *historical* when we apply branch cases in our assembly-level analyses."
   ]
  },
  {
   "cell_type": "markdown",
   "metadata": {
    "slideshow": {
     "slide_type": "subslide"
    }
   },
   "source": [
    "### Extended Output\n",
    "\n",
    "The extended output is much more verbose.  An example snippet for 1 MWD/KG burnup:\n",
    "\n",
    "```\n",
    " * C A S M O - 4E 1.00.02 REV:00 CREATED:2012/05/08 **STUDSVIK** EXECUTED:2018/02/21 06:23:20 STATEPOINT =      4 PAGE =      21  \n",
    " * Pin cell example\n",
    " * BURNUP=   1.000  V= 0.0  TF= 293.0  TM= 293.0  BOR= 550.0  EFPH=   800  ECH=   0.000                                       \n",
    "\n",
    "          --------------------  C A S M O - 4     S U M M A R Y   ----------------------  \n",
    "          BURNUP =    1.000 MWD/KG   K-INF =   1.24831   M2 =   40.75   B2 =   6.094E-03\n",
    "          ------------------------------------------------------------------------------  \n",
    "\n",
    "  * POWER DISTRIBUTION    PEAK: LL = 1.000  ( 199.5 W/CM),  HSF = 1.000  (   57.7 W/CM2)\n",
    "  1.000*\n",
    "\n",
    "  * TWO GROUP DATA                                    K-INF XE, NO XE  1.24706     1.28345\n",
    "    DIFF1   , DIFF2         1.2019E+00   2.9205E-01   M2     \",  \"     4.0588E+01  4.0671E+01\n",
    "    ABS1    , ABS2          1.0596E-02   1.2871E-01   XE2  MIC, MAC    1.6394E+06  4.5474E-03\n",
    "    NUFISS1 , NUFISS2       7.9522E-03   1.9312E-01   SM2    \",  \"     4.3475E+04  1.0449E-03\n",
    "    REMOV1  , NU            2.0769E-02   2.4718E+00   BOR1   \",  \"     9.4296E+00  1.5542E-04\n",
    "    KAPPA   , XE-YIELD      3.2495E-11   6.5940E-02   BOR2   \",  \"     5.2167E+02  8.5985E-03\n",
    "\n",
    "  * NEUTRON BALANCE            GROUP 1      GROUP 2        TOTAL\n",
    "    FLUX  . . . . . . .     3.1349E+00   4.9894E-01   3.6338E+00\n",
    "    ABSORPTION  . . . .     2.7388E-01   5.2949E-01   8.0337E-01\n",
    "    FISSION . . . . . .     8.0304E-02   3.2426E-01   4.0456E-01\n",
    "    NUFISSION . . . . .     2.0554E-01   7.9446E-01   1.0000E+00\n",
    "    LEAKAGE . . . . . .     1.8931E-01   7.3215E-03   1.9663E-01\n",
    "    OUTSCATTER  . . . .     5.3988E-01   3.0661E-03   5.4295E-01\n",
    "    K-INF  (2-GROUP). .     2.5354E-01   9.9352E-01   1.2471E+00\n",
    "    ETA*F, P  . . . . .     7.5048E-01   1.5004E+00   6.6217E-01\n",
    "    INV VELOCITY  . . .     5.5770E-08   2.8649E-06\n",
    "    FLUX RATIO:[DET/CELL]   1.0166E+00   9.0530E-01\n",
    "\n",
    "  * NEUTRON DETECTOR        1.3404E+13   GAMMA DET    0.0000E+00   PR LIFE TIME    1.5797E-05\n",
    "    INTEGRATED ABS  . .     1.3914E+20   INT NUFISS   1.7448E+20   INT LEAKAGE     3.5343E+19\n",
    "    FAST FLUENCE    . .     2.1837E+20   POWER (W/G)  3.0000E+01   NORM FACTOR     6.0696E+13\n",
    "    CONV RATIO      . .     4.2692E-01   FISS/TOT U%  3.0834E+00   FISS/TOT PU%    9.8520E+01\n",
    "    NEUT DET (ABS)  . .     1.0695E+16   GTIP(ABS)    0.0000E+00\n",
    "\n",
    "  * NUCLIDE  WT(%) HM       CAPTURE      FISSION      INT CAPT      INT FISS           MWD/KG\n",
    "    U-234     0.0252        1.3675E-03   3.4636E-05   2.3937E+17   6.0562E+15           0.000 FER\n",
    "    U-235     3.0834        8.0328E-02   3.6819E-01   1.4261E+19   6.5467E+19           0.923 FIS\n",
    "    U-236     0.0210        4.1516E-04   1.6507E-05   3.6637E+16   1.4488E+15           0.000\n",
    "    U-238    96.7168        1.9683E-01   2.5412E-02   3.4197E+19   4.4110E+18           0.064 FER\n",
    "    Pu-238    0.0000        1.3459E-07   8.8811E-09   5.6696E+12   3.7366E+11           0.000 FER\n",
    "    Pu-239    0.0440        5.7128E-03   1.0887E-02   4.6068E+17   8.7731E+17           0.013 FIS\n",
    "    Pu-240    0.0007        3.7878E-04   1.0057E-06   2.0556E+16   5.4459E+13           0.000 FER\n",
    "    Pu-241    0.0000        2.7943E-06   8.0650E-06   1.1440E+14   3.3009E+14           0.000 FIS\n",
    "    Pu-242    0.0000        1.3945E-08   1.8827E-10   4.5546E+11   6.1521E+09           0.000\n",
    "    Am-241    0.0000        8.3808E-09   9.3090E-11   2.7534E+11   3.0552E+09           0.000\n",
    "    TOT  U    99.846        2.7895E-01   3.9366E-01   4.8734E+19   6.9885E+19           0.987\n",
    "    TOT PU     0.045        6.0946E-03   1.0896E-02   4.8136E+17   8.7770E+17           0.013\n",
    "    SUM       99.891\n",
    "\n",
    "  * NUCLIDE  WT(%) HM       CAPTURE      FISSION      INT CAPT      INT FISS           MWD/KG\n",
    "    FISSILE    3.127        8.6043E-02   3.7909E-01   1.4721E+19   6.6344E+19           0.936\n",
    "    FERTILE   96.743        1.9857E-01   2.5448E-02   3.4457E+19   4.4171E+18           0.064\n",
    "    SUM       99.870\n",
    "\n",
    "  * DELAYED NEUTRON DECAY   0.0128  0.0318  0.1192  0.3179  1.4013  3.9160              TOTAL\n",
    "                 YIELD*E3   0.2503  1.4760  1.3445  2.9408  1.0349  0.2425             7.2889\n",
    "       EFFECTIVE YIELD*E3   0.2423  1.4272  1.3007  2.8443  1.0009  0.2346             7.0501\n",
    "\n",
    "\n",
    " State point data written on restart file named=(File not named - Status=SCRATCH)\n",
    " Exposure=   2.00000 Password=/180221/0623           (Sequence number on restart file=0005)  Statepoint=    5\n",
    "\n",
    " K-INF FROM THE MICRO GROUP CALCULATIONS = 1.23939 (AVERAGE PIN CELL)   \n",
    "   (SPECTRA CALCULATION NUMBER 1- 1)     = 1.23858\n",
    "\n",
    " K-INF FROM THE MACRO GROUP CALCULATION  = 1.23861  TOTAL TIME OF MACRO GROUP SOLUTION =  0.00 CPU-SEC.   2 ITERS\n",
    "```"
   ]
  },
  {
   "cell_type": "markdown",
   "metadata": {
    "slideshow": {
     "slide_type": "subslide"
    }
   },
   "source": [
    "Most of the information provided is self-explanatory.  In many cases, units are assumed.  \n",
    "\n",
    "*Pop Quiz*:\n",
    "  1. Let the flux unit be 1/cm$^2$-s for each group.  How many thermal neutrons are there for every fast neutron?  \n",
    "  2. For the stated power density, what must be the total neutron flux?\n",
    "  3. What is the *reactivity worth* in *pcm* of Xenon?"
   ]
  },
  {
   "cell_type": "markdown",
   "metadata": {
    "slideshow": {
     "slide_type": "subslide"
    }
   },
   "source": [
    "### Two-Group Data\n",
    "\n",
    "The primary use of CASMO-4 is to generate two-group data for downstream, full-core calculations.  The data provided are space- and energy-averaged\n",
    "  - diffusion coefficients $D_1$ and $D_2$ (cm)\n",
    "  - macroscopic absorption cross sections $\\Sigma_{a1}$ and $\\Sigma_{a2}$ (1/cm)\n",
    "  - macroscopic, group 1 to 2 scattering cross section $\\Sigma_{s2\\gets 1}$ (1/cm) (note: it is called REMOV1).\n",
    "  - macroscopic fission cross section multiplied by average number of \n",
    "    neutrons release per fission, i.e., $\\bar{\\nu}\\Sigma_{f1}$ and $\\bar{\\nu}\\Sigma_{f2}$ (1/cm)\n",
    "  - average number of neutrons release per fission, $\\bar{\\nu}$ \n",
    "  - average energy release per fission, $\\kappa$ (J/fission)"
   ]
  },
  {
   "cell_type": "markdown",
   "metadata": {
    "slideshow": {
     "slide_type": "subslide"
    }
   },
   "source": [
    "## The Four Factors\n",
    "\n",
    "Recall that that the multiplication factor is\n",
    "\n",
    "$$\n",
    "  k = \\frac{\\text{# neutrons produced}}{\\text{# neutrons lost}} = \n",
    "      \\frac{\\text{# neutrons in generation n+1}}{\\text{# neutrons in generation n}} \\, .\n",
    "$$\n",
    "\n",
    "For infinite systems, it is common to define $k_{\\infty}$ as\n",
    "\n",
    "$$\n",
    "  k_{\\infty} = \\eta f p \\epsilon \\, ,\n",
    "$$\n",
    "\n",
    "where\n",
    "\n",
    " - $\\eta$ is sometimes called the *thermal fission factor* and is the expected number of neutrons emitted per thermal absorption (in the fuel---we are dealing with a *homogenized* unit cell, so there is no longer a distinction between fuel and other materials)\n",
    " - $f$ is the *thermal utilization*, the probability that a thermal neutron is absorbed in the fuel if it is absorbed at all; for a homogenized unit cell, $f = 1$ by definition.\n",
    " - $p$ is the *resonance escape probability*, i.e., the probability that a neutron born at high energy ultimately is thermalized\n",
    " - $\\epsilon$ is the *fast fission factor* or the ratio of the number of fission neutrons produced by *any* neutron to the number produced by only thermal neutrons."
   ]
  },
  {
   "cell_type": "markdown",
   "metadata": {
    "slideshow": {
     "slide_type": "subslide"
    }
   },
   "source": [
    "### The $\\eta$ Factor\n",
    "\n",
    "The number of fast neutrons produced by thermal-neutron induced fission is $ V\\cdot \\nu\\Sigma_{f2}\\cdot \\phi_2$\n",
    "for a volume $V$.  Total number of thermal neutrons absorbed is $V\\cdot \\Sigma_{a2}\\cdot \\phi_2$.  Therefore, define\n",
    "\n",
    "$$\n",
    "  \\eta = \\frac{V \\nu\\Sigma_{f2}\\phi_2} {V \\Sigma_{a2}\\phi_2} = \\frac{\\nu\\Sigma_{f2}}{\\Sigma_{a2}} \\, .\n",
    "$$\n",
    "\n",
    "The volume will be omitted henceforth."
   ]
  },
  {
   "cell_type": "markdown",
   "metadata": {
    "slideshow": {
     "slide_type": "subslide"
    }
   },
   "source": [
    "### Resonance Escape Probability\n",
    "\n",
    "In an infinite lattice of identical unit cells, there *is no leakage from the system*.  Hence, all neutrons born from fission must be absorbed.  The total number of neutrons absorbed is\n",
    "\n",
    "$$\n",
    "  \\text{total # absorptions} = \\Sigma_{a2}\\phi_2 + \\Sigma_{a1}\\phi_1 \\, .\n",
    "$$\n",
    "\n",
    "The neutrons that \"escape\" the resonance region are those that make it to thermal energies and are subsequently absorbed.  That number is\n",
    "\n",
    "$$\n",
    "  \\text{# that thermalize}  = \\Sigma_{a2}\\phi_2 \\, .\n",
    "$$\n",
    "\n",
    "Thus,\n",
    "\n",
    "$$\n",
    "   p = \\frac{\\text{# that thermalize}}{\\text{total # absorptions}} = \\frac{ \\Sigma_{a2}\\phi_2}{ \\Sigma_{a2}\\phi_2 + \\nu\\Sigma_{a1}\\phi_1 } \\, .\n",
    "$$ "
   ]
  },
  {
   "cell_type": "markdown",
   "metadata": {
    "slideshow": {
     "slide_type": "subslide"
    }
   },
   "source": [
    "### Fast Fission\n",
    "\n",
    "As defined above, we must have\n",
    "\n",
    "$$\n",
    "  \\epsilon = \\frac{\\text{# fission neutrons induced by any neutron}}{\\text{# fission neutrons induced by thermal neutrons}} \\, ,\n",
    "$$\n",
    "\n",
    "or\n",
    "\n",
    "$$\n",
    "  \\epsilon = \\frac{\\nu\\Sigma_{f1}\\phi_1 + \\nu\\Sigma_{f2}\\phi_2 }{\\nu\\Sigma_{f2}\\phi_2} \\, .\n",
    "$$"
   ]
  },
  {
   "cell_type": "markdown",
   "metadata": {
    "slideshow": {
     "slide_type": "subslide"
    }
   },
   "source": [
    "### Neutron Balance and $k_{\\infty}$\n",
    "\n",
    "Do the terms yield the expected neutron balance?\n",
    "\n",
    "$$\n",
    "  k = \\overbrace{\\frac{\\nu\\Sigma_{f2}\\phi_2}{\\Sigma_{a2}\\phi_2}}^{\\eta}\n",
    "     \\cdot \\overbrace{1}^{f}\n",
    "     \\cdot \\overbrace{\\frac{ \\Sigma_{a2}\\phi_2}{ \\Sigma_{a2}\\phi_2 + \\Sigma_{a1}\\phi_1 } }^{p}\n",
    "     \\cdot \\overbrace{\\frac{\\nu\\Sigma_{f1}\\phi_1 + \\nu\\Sigma_{f2}\\phi_2 }{\\nu\\Sigma_{f2}\\phi_2}}^{\\epsilon} {\\large ?} \n",
    "$$"
   ]
  },
  {
   "cell_type": "markdown",
   "metadata": {
    "slideshow": {
     "slide_type": "subslide"
    }
   },
   "source": [
    "From the two-group diffusion equation (assuming no upscatter and fission emission only into group 1):\n",
    "\n",
    "$$\n",
    "\\begin{split}\n",
    "   -D_1 \\frac{d^2 \\phi_1}{dx^2} + (\\Sigma_{t1}-\\Sigma_{s1\\gets 1})\\phi_1 &=\n",
    "       \\frac{1}{k} \\left ( \\nu\\Sigma_{f1} \\phi_1 + \\nu\\Sigma_{f2} \\phi_2 \\right ) \\\\\n",
    "   -D_2 \\frac{d^2 \\phi_2}{dx^2} + (\\Sigma_{t2}-\\Sigma_{s2\\gets 2})\\phi_2 &=\n",
    "       \\Sigma_{s2\\gets 1} \\phi_1 \\, .            \n",
    "\\end{split}\n",
    "$$"
   ]
  },
  {
   "cell_type": "markdown",
   "metadata": {
    "slideshow": {
     "slide_type": "fragment"
    }
   },
   "source": [
    "For $k_{\\infty}$, spatial derivatives are *zero*.  Moreover, define $\\Sigma_{r1} = \\Sigma_{t1}-\\Sigma_{s1\\gets 1}$ and $\\Sigma_{a2} = \\Sigma_{t2}-\\Sigma_{s2\\gets 2}$.  Then\n",
    "\n",
    "$$\n",
    "  \\phi_2 = \\phi_1 \\frac{\\Sigma_{s2\\gets 1}}{\\Sigma_{a2}} \\, ,\n",
    "$$\n",
    "\n",
    "and, hence,\n",
    "\n",
    "$$\n",
    "  k_{\\infty} = \\frac{1}{\\Sigma_{r1}} \\left ( \\nu\\Sigma_{f1}  +   \\frac{\\nu\\Sigma_{f2} \\Sigma_{s2\\gets 1}}{\\Sigma_{a2}} \\right ) \\, .\n",
    "$$"
   ]
  },
  {
   "cell_type": "code",
   "execution_count": 1,
   "metadata": {
    "slideshow": {
     "slide_type": "subslide"
    }
   },
   "outputs": [
    {
     "data": {
      "text/plain": [
       "1.2447625586164703"
      ]
     },
     "execution_count": 1,
     "metadata": {},
     "output_type": "execute_result"
    }
   ],
   "source": [
    "D = 1.2019E+00, 2.9205E-01\n",
    "SigmaA = 1.0596E-02, 1.2871E-01\n",
    "nuSigmaF = 7.9522E-03, 1.9312E-01\n",
    "SigmaS21 = 2.0769E-02\n",
    "phi = 3.1349E+00,  4.9894E-01\n",
    "\n",
    "k_balance = (phi[0]*nuSigmaF[0]+phi[1]*nuSigmaF[1])/(phi[0]*SigmaA[0]+phi[1]*SigmaA[1])\n",
    "k_balance"
   ]
  },
  {
   "cell_type": "code",
   "execution_count": 2,
   "metadata": {
    "slideshow": {
     "slide_type": "subslide"
    }
   },
   "outputs": [
    {
     "data": {
      "text/plain": [
       "1.2470771545174948"
      ]
     },
     "execution_count": 2,
     "metadata": {},
     "output_type": "execute_result"
    }
   ],
   "source": [
    "k_oo = 1/(SigmaS21+SigmaA[0]) * (nuSigmaF[0]+ nuSigmaF[1]*SigmaS21/SigmaA[1])\n",
    "k_oo"
   ]
  },
  {
   "cell_type": "markdown",
   "metadata": {},
   "source": [
    "## Using the Scheduler on Eigendoit\n",
    "\n",
    "Logging into eigendoit and running things on the head node may cause you grief!  Better: *use the whole cluster* by appropriate job submission.  Example script:\n",
    "\n",
    "\n",
    "Save this as `runit.sh`:\n",
    "```\n",
    "#!/bin/sh\n",
    "#PBS -l nodes=1:ppn=1\n",
    "cd $PBS_O_WORKDIR\n",
    "/share/apps/studsvik/bin/casmo4 pin.inp\n",
    "```\n",
    "\n",
    "Then do\n",
    "```\n",
    "qsub runit.sh\n",
    "```\n"
   ]
  },
  {
   "cell_type": "code",
   "execution_count": null,
   "metadata": {
    "collapsed": true
   },
   "outputs": [],
   "source": []
  }
 ],
 "metadata": {
  "celltoolbar": "Slideshow",
  "kernelspec": {
   "display_name": "Python 3",
   "language": "python",
   "name": "python3"
  },
  "language_info": {
   "codemirror_mode": {
    "name": "ipython",
    "version": 3
   },
   "file_extension": ".py",
   "mimetype": "text/x-python",
   "name": "python",
   "nbconvert_exporter": "python",
   "pygments_lexer": "ipython3",
   "version": "3.6.3"
  },
  "livereveal": {
   "scroll": true
  }
 },
 "nbformat": 4,
 "nbformat_minor": 2
}
