{
 "cells": [
  {
   "cell_type": "markdown",
   "metadata": {
    "slideshow": {
     "slide_type": "slide"
    }
   },
   "source": [
    "# ARP Lecture 8\n",
    "\n",
    "**Assembly-Level Calculations in CASMO-4**"
   ]
  },
  {
   "cell_type": "markdown",
   "metadata": {
    "slideshow": {
     "slide_type": "subslide"
    }
   },
   "source": [
    "## Reading\n",
    "\n",
    "- CASMO-4 manual\n",
    "- https://www.epri.com/#/pages/product/1022909/\n"
   ]
  },
  {
   "cell_type": "markdown",
   "metadata": {
    "slideshow": {
     "slide_type": "slide"
    }
   },
   "source": [
    "## Recall What We've Done\n",
    "\n",
    "```\n",
    "TTL *Pin cell example\n",
    "TFU=293 TMO=293 BOR=293.0 *Statepoint parameters\n",
    "FUE 1 10.1/3.2            *Fuel density/enrichment\n",
    "PIC .49 .55 .81           *Pin cell radii\n",
    "PDE 30\n",
    "STA                       *Start execution\n",
    "END                       *End of input\n",
    "```"
   ]
  },
  {
   "cell_type": "markdown",
   "metadata": {
    "slideshow": {
     "slide_type": "subslide"
    }
   },
   "source": [
    "## On to an Assembly\n",
    "\n",
    "```\n",
    "TTL * 17 x 17\n",
    "PSC 0\n",
    "DBL\n",
    "* CONDITIONS\n",
    "PDE 104.5 'KWL'                               * specific power of pin\n",
    "PRE 155                                       * pressure (bar)\n",
    "TMO=565                                       * mod temp K\n",
    "TCO=580                                       * cool temp K\n",
    "TFU=900                                       * fuel temp K\n",
    "BOR=900                                       * boron (ppm)\n",
    "* GEOMETRY\n",
    "PWR 17 1.26 21.5                              * 17x17, 1.26cm pitch, 21.5cm a. pitch\n",
    "FUE 1, 10.34/4.0                              * UO2 at 4%\n",
    "PIN 1 0.4096 0.4180 0.4750 /'1' 'AIR', 'CAN'  * fuel/air/clad\n",
    "* LATTICE\n",
    "LPI                                           * 1/8th symmetry\n",
    "1\n",
    "1 1\n",
    "1 1 1\n",
    "1 1 1 1\n",
    "1 1 1 1 1\n",
    "1 1 1 1 1 1\n",
    "1 1 1 1 1 1 1\n",
    "1 1 1 1 1 1 1 1\n",
    "1 1 1 1 1 1 1 1 1\n",
    "* \n",
    "STA\n",
    "```"
   ]
  },
  {
   "cell_type": "code",
   "execution_count": null,
   "metadata": {
    "collapsed": true,
    "slideshow": {
     "slide_type": "slide"
    }
   },
   "outputs": [],
   "source": []
  }
 ],
 "metadata": {
  "celltoolbar": "Slideshow",
  "kernelspec": {
   "display_name": "Python 3",
   "language": "python",
   "name": "python3"
  },
  "language_info": {
   "codemirror_mode": {
    "name": "ipython",
    "version": 3
   },
   "file_extension": ".py",
   "mimetype": "text/x-python",
   "name": "python",
   "nbconvert_exporter": "python",
   "pygments_lexer": "ipython3",
   "version": "3.6.3"
  },
  "livereveal": {
   "scroll": true
  }
 },
 "nbformat": 4,
 "nbformat_minor": 2
}
